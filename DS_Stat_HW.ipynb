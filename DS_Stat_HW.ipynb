{
 "cells": [
  {
   "cell_type": "markdown",
   "metadata": {
    "colab_type": "text",
    "id": "STJJmfyDeLHW"
   },
   "source": [
    "## Домашняя работа по базовой математической статистике для Data scientist\n",
    "\n",
    "Задания со зведочкой не обязательны для зачета."
   ]
  },
  {
   "cell_type": "code",
   "execution_count": 113,
   "metadata": {
    "colab": {},
    "colab_type": "code",
    "id": "Z6wDw2SReLHX"
   },
   "outputs": [],
   "source": [
    "import pandas as pd\n",
    "import numpy as np\n",
    "import matplotlib.pyplot as plt\n",
    "import seaborn as sns\n",
    "from scipy.stats import kurtosis\n",
    "from scipy.stats import skew\n",
    "from scipy import stats\n",
    "\n",
    "\n",
    "df = pd.read_csv(\"bikeshare.csv\")\n",
    "del df['datetime']"
   ]
  },
  {
   "cell_type": "code",
   "execution_count": 114,
   "metadata": {},
   "outputs": [
    {
     "data": {
      "text/html": [
       "<div>\n",
       "<style scoped>\n",
       "    .dataframe tbody tr th:only-of-type {\n",
       "        vertical-align: middle;\n",
       "    }\n",
       "\n",
       "    .dataframe tbody tr th {\n",
       "        vertical-align: top;\n",
       "    }\n",
       "\n",
       "    .dataframe thead th {\n",
       "        text-align: right;\n",
       "    }\n",
       "</style>\n",
       "<table border=\"1\" class=\"dataframe\">\n",
       "  <thead>\n",
       "    <tr style=\"text-align: right;\">\n",
       "      <th></th>\n",
       "      <th>season</th>\n",
       "      <th>holiday</th>\n",
       "      <th>workingday</th>\n",
       "      <th>weather</th>\n",
       "      <th>temp</th>\n",
       "      <th>atemp</th>\n",
       "      <th>humidity</th>\n",
       "      <th>windspeed</th>\n",
       "      <th>casual</th>\n",
       "      <th>registered</th>\n",
       "      <th>count</th>\n",
       "    </tr>\n",
       "  </thead>\n",
       "  <tbody>\n",
       "    <tr>\n",
       "      <th>0</th>\n",
       "      <td>1</td>\n",
       "      <td>0</td>\n",
       "      <td>0</td>\n",
       "      <td>1</td>\n",
       "      <td>9.84</td>\n",
       "      <td>14.395</td>\n",
       "      <td>81</td>\n",
       "      <td>0.0000</td>\n",
       "      <td>3</td>\n",
       "      <td>13</td>\n",
       "      <td>16</td>\n",
       "    </tr>\n",
       "    <tr>\n",
       "      <th>1</th>\n",
       "      <td>1</td>\n",
       "      <td>0</td>\n",
       "      <td>0</td>\n",
       "      <td>1</td>\n",
       "      <td>9.02</td>\n",
       "      <td>13.635</td>\n",
       "      <td>80</td>\n",
       "      <td>0.0000</td>\n",
       "      <td>8</td>\n",
       "      <td>32</td>\n",
       "      <td>40</td>\n",
       "    </tr>\n",
       "    <tr>\n",
       "      <th>2</th>\n",
       "      <td>1</td>\n",
       "      <td>0</td>\n",
       "      <td>0</td>\n",
       "      <td>1</td>\n",
       "      <td>9.02</td>\n",
       "      <td>13.635</td>\n",
       "      <td>80</td>\n",
       "      <td>0.0000</td>\n",
       "      <td>5</td>\n",
       "      <td>27</td>\n",
       "      <td>32</td>\n",
       "    </tr>\n",
       "    <tr>\n",
       "      <th>3</th>\n",
       "      <td>1</td>\n",
       "      <td>0</td>\n",
       "      <td>0</td>\n",
       "      <td>1</td>\n",
       "      <td>9.84</td>\n",
       "      <td>14.395</td>\n",
       "      <td>75</td>\n",
       "      <td>0.0000</td>\n",
       "      <td>3</td>\n",
       "      <td>10</td>\n",
       "      <td>13</td>\n",
       "    </tr>\n",
       "    <tr>\n",
       "      <th>4</th>\n",
       "      <td>1</td>\n",
       "      <td>0</td>\n",
       "      <td>0</td>\n",
       "      <td>1</td>\n",
       "      <td>9.84</td>\n",
       "      <td>14.395</td>\n",
       "      <td>75</td>\n",
       "      <td>0.0000</td>\n",
       "      <td>0</td>\n",
       "      <td>1</td>\n",
       "      <td>1</td>\n",
       "    </tr>\n",
       "    <tr>\n",
       "      <th>...</th>\n",
       "      <td>...</td>\n",
       "      <td>...</td>\n",
       "      <td>...</td>\n",
       "      <td>...</td>\n",
       "      <td>...</td>\n",
       "      <td>...</td>\n",
       "      <td>...</td>\n",
       "      <td>...</td>\n",
       "      <td>...</td>\n",
       "      <td>...</td>\n",
       "      <td>...</td>\n",
       "    </tr>\n",
       "    <tr>\n",
       "      <th>10881</th>\n",
       "      <td>4</td>\n",
       "      <td>0</td>\n",
       "      <td>1</td>\n",
       "      <td>1</td>\n",
       "      <td>15.58</td>\n",
       "      <td>19.695</td>\n",
       "      <td>50</td>\n",
       "      <td>26.0027</td>\n",
       "      <td>7</td>\n",
       "      <td>329</td>\n",
       "      <td>336</td>\n",
       "    </tr>\n",
       "    <tr>\n",
       "      <th>10882</th>\n",
       "      <td>4</td>\n",
       "      <td>0</td>\n",
       "      <td>1</td>\n",
       "      <td>1</td>\n",
       "      <td>14.76</td>\n",
       "      <td>17.425</td>\n",
       "      <td>57</td>\n",
       "      <td>15.0013</td>\n",
       "      <td>10</td>\n",
       "      <td>231</td>\n",
       "      <td>241</td>\n",
       "    </tr>\n",
       "    <tr>\n",
       "      <th>10883</th>\n",
       "      <td>4</td>\n",
       "      <td>0</td>\n",
       "      <td>1</td>\n",
       "      <td>1</td>\n",
       "      <td>13.94</td>\n",
       "      <td>15.910</td>\n",
       "      <td>61</td>\n",
       "      <td>15.0013</td>\n",
       "      <td>4</td>\n",
       "      <td>164</td>\n",
       "      <td>168</td>\n",
       "    </tr>\n",
       "    <tr>\n",
       "      <th>10884</th>\n",
       "      <td>4</td>\n",
       "      <td>0</td>\n",
       "      <td>1</td>\n",
       "      <td>1</td>\n",
       "      <td>13.94</td>\n",
       "      <td>17.425</td>\n",
       "      <td>61</td>\n",
       "      <td>6.0032</td>\n",
       "      <td>12</td>\n",
       "      <td>117</td>\n",
       "      <td>129</td>\n",
       "    </tr>\n",
       "    <tr>\n",
       "      <th>10885</th>\n",
       "      <td>4</td>\n",
       "      <td>0</td>\n",
       "      <td>1</td>\n",
       "      <td>1</td>\n",
       "      <td>13.12</td>\n",
       "      <td>16.665</td>\n",
       "      <td>66</td>\n",
       "      <td>8.9981</td>\n",
       "      <td>4</td>\n",
       "      <td>84</td>\n",
       "      <td>88</td>\n",
       "    </tr>\n",
       "  </tbody>\n",
       "</table>\n",
       "<p>10886 rows × 11 columns</p>\n",
       "</div>"
      ],
      "text/plain": [
       "       season  holiday  workingday  weather   temp   atemp  humidity  \\\n",
       "0           1        0           0        1   9.84  14.395        81   \n",
       "1           1        0           0        1   9.02  13.635        80   \n",
       "2           1        0           0        1   9.02  13.635        80   \n",
       "3           1        0           0        1   9.84  14.395        75   \n",
       "4           1        0           0        1   9.84  14.395        75   \n",
       "...       ...      ...         ...      ...    ...     ...       ...   \n",
       "10881       4        0           1        1  15.58  19.695        50   \n",
       "10882       4        0           1        1  14.76  17.425        57   \n",
       "10883       4        0           1        1  13.94  15.910        61   \n",
       "10884       4        0           1        1  13.94  17.425        61   \n",
       "10885       4        0           1        1  13.12  16.665        66   \n",
       "\n",
       "       windspeed  casual  registered  count  \n",
       "0         0.0000       3          13     16  \n",
       "1         0.0000       8          32     40  \n",
       "2         0.0000       5          27     32  \n",
       "3         0.0000       3          10     13  \n",
       "4         0.0000       0           1      1  \n",
       "...          ...     ...         ...    ...  \n",
       "10881    26.0027       7         329    336  \n",
       "10882    15.0013      10         231    241  \n",
       "10883    15.0013       4         164    168  \n",
       "10884     6.0032      12         117    129  \n",
       "10885     8.9981       4          84     88  \n",
       "\n",
       "[10886 rows x 11 columns]"
      ]
     },
     "execution_count": 114,
     "metadata": {},
     "output_type": "execute_result"
    }
   ],
   "source": [
    "df"
   ]
  },
  {
   "cell_type": "markdown",
   "metadata": {
    "colab_type": "text",
    "id": "y_ceSNNweLHb"
   },
   "source": [
    "### 1.\n",
    "Постройте гистограмму распределения каждой из метрик в датасете при помощи метода датафрейма `hist()`. При необходимости добавьте логарифмированную ось (параметр log)."
   ]
  },
  {
   "cell_type": "code",
   "execution_count": 115,
   "metadata": {},
   "outputs": [
    {
     "data": {
      "image/png": "[encoded data removed]",
      "text/plain": [
       "<Figure size 720x720 with 12 Axes>"
      ]
     },
     "metadata": {
      "needs_background": "light"
     },
     "output_type": "display_data"
    }
   ],
   "source": [
    "histogram = df.hist(bins = 20, figsize=(10, 10))"
   ]
  },
  {
   "cell_type": "markdown",
   "metadata": {
    "colab_type": "text",
    "id": "N5ZsCWTheLHi"
   },
   "source": [
    "### 2.\n",
    "Для каждой метрики найдите среднее, дисперсию, 50, 75 и 99 перцентили, моду. Какие выводы о наличии аномалий мы можем сделать?"
   ]
  },
  {
   "cell_type": "code",
   "execution_count": 116,
   "metadata": {},
   "outputs": [
    {
     "name": "stdout",
     "output_type": "stream",
     "text": [
      "Название столбца season\n",
      "Среднее 2.5066139996325556\n",
      "Диспресия 2.232348618688529\n",
      "50% 3.0\n",
      "75% 4.0\n",
      "99% 4.0\n",
      "Мода 4    2734\n",
      "Name: season, dtype: int64\n",
      "кол-во аномалий 2734\n",
      "_________________________________________\n",
      "Название столбца holiday\n",
      "Среднее 0.02856880396839978\n",
      "Диспресия 0.3331977012494397\n",
      "50% 0.0\n",
      "75% 0.0\n",
      "99% 1.0\n",
      "Мода 0    10575\n",
      "Name: holiday, dtype: int64\n",
      "кол-во аномалий 311\n",
      "_________________________________________\n",
      "Название столбца workingday\n",
      "Среднее 0.6808745177291935\n",
      "Диспресия 0.9323183375994842\n",
      "50% 1.0\n",
      "75% 1.0\n",
      "99% 1.0\n",
      "Мода 1    7412\n",
      "Name: workingday, dtype: int64\n",
      "кол-во аномалий 7412\n",
      "_________________________________________\n",
      "Название столбца weather\n",
      "Среднее 1.418427337865148\n",
      "Диспресия 1.2676771716381843\n",
      "50% 1.0\n",
      "75% 2.0\n",
      "99% 3.0\n",
      "Мода 1    7192\n",
      "Name: weather, dtype: int64\n",
      "кол-во аномалий 860\n",
      "_________________________________________\n",
      "Название столбца temp\n",
      "Среднее 20.230859819952173\n",
      "Диспресия 15.583179687975012\n",
      "50% 20.5\n",
      "75% 26.24\n",
      "99% 36.08\n",
      "Мода 14.76    467\n",
      "Name: temp, dtype: int64\n",
      "кол-во аномалий 117\n",
      "_________________________________________\n",
      "Название столбца atemp\n",
      "Среднее 23.65508405291192\n",
      "Диспресия 16.949201252969775\n",
      "50% 24.24\n",
      "75% 31.06\n",
      "99% 40.15\n",
      "Мода 31.06    671\n",
      "Name: atemp, dtype: int64\n",
      "кол-во аномалий 149\n",
      "_________________________________________\n",
      "Название столбца humidity\n",
      "Среднее 61.88645967297446\n",
      "Диспресия 38.49006655478957\n",
      "50% 62.0\n",
      "75% 77.0\n",
      "99% 100.0\n",
      "Мода 88    368\n",
      "Name: humidity, dtype: int64\n",
      "кол-во аномалий 148\n",
      "_________________________________________\n",
      "Название столбца windspeed\n",
      "Среднее 12.799395406945093\n",
      "Диспресия 16.32907465367698\n",
      "50% 12.998\n",
      "75% 16.9979\n",
      "99% 35.0008\n",
      "Мода 0.0    1313\n",
      "Name: windspeed, dtype: int64\n",
      "кол-во аномалий 147\n",
      "_________________________________________\n",
      "Название столбца casual\n",
      "Среднее 36.02195480433584\n",
      "Диспресия 99.9209531452996\n",
      "50% 17.0\n",
      "75% 49.0\n",
      "99% 240.14999999999964\n",
      "Мода 0    986\n",
      "Name: casual, dtype: int64\n",
      "кол-во аномалий 109\n",
      "_________________________________________\n",
      "Название столбца registered\n",
      "Среднее 155.5521771082124\n",
      "Диспресия 302.0780661638492\n",
      "50% 118.0\n",
      "75% 222.0\n",
      "99% 697.0\n",
      "Мода 3    195\n",
      "Name: registered, dtype: int64\n",
      "кол-во аномалий 110\n",
      "_________________________________________\n",
      "Название столбца count\n",
      "Среднее 191.57413191254824\n",
      "Диспресия 362.2889076605699\n",
      "50% 145.0\n",
      "75% 284.0\n",
      "99% 774.1499999999996\n",
      "Мода 5    169\n",
      "Name: count, dtype: int64\n",
      "кол-во аномалий 109\n",
      "_________________________________________\n"
     ]
    }
   ],
   "source": [
    "for (n, col) in enumerate(df.columns):\n",
    "    print('Название столбца {}'.format(col))\n",
    "    print('Среднее', df[col].mean())\n",
    "    print('Диспресия', (df[col].std())*2)\n",
    "    print('50%', np.percentile(df[col], 50))\n",
    "    print('75%', np.percentile(df[col], 75))\n",
    "    print('99%', np.percentile(df[col], 99))\n",
    "    print('Мода', df[col].value_counts().nlargest(1))\n",
    "    level_99 = np.percentile(df[col], 99)\n",
    "    anomaly = df[(df[col] >= level_99)]\n",
    "    print('кол-во аномалий', anomaly.shape[0])\n",
    "    print('_________________________________________')"
   ]
  },
  {
   "cell_type": "markdown",
   "metadata": {},
   "source": [
    "Вывод: Таким образом, у распределений, наиболее близких к нормальным (temp, atemp, humidity), наблюдается 117, 149 и 148 аномалий соотвественно."
   ]
  },
  {
   "cell_type": "markdown",
   "metadata": {
    "colab_type": "text",
    "id": "vYsgacSUeLHm"
   },
   "source": [
    "### 3. (*) \n",
    " Для каждой метрики проанализируйте ассиметрию и смещенность распределения – для этого посчитайте для каждой метрики коэффициент ассиметрии и эксцесса."
   ]
  },
  {
   "cell_type": "code",
   "execution_count": 117,
   "metadata": {
    "colab": {},
    "colab_type": "code",
    "id": "eBiq3W9TeLHm"
   },
   "outputs": [
    {
     "name": "stdout",
     "output_type": "stream",
     "text": [
      "Название столбца season\n",
      "Эксцесс: -1.3555899543299803\n",
      "Ассиметрия: -0.007074695296526289\n",
      "_________________________\n",
      "Название столбца holiday\n",
      "Эксцесс: 30.032624417535125\n",
      "Ассиметрия: 5.6597371332540805\n",
      "_________________________\n",
      "Название столбца workingday\n",
      "Эксцесс: -1.3977369782030475\n",
      "Ассиметрия: -0.7760560687198784\n",
      "_________________________\n",
      "Название столбца weather\n",
      "Эксцесс: 0.39480007841067577\n",
      "Ассиметрия: 1.2433126730817885\n",
      "_________________________\n",
      "Название столбца temp\n",
      "Эксцесс: -0.9146613849825282\n",
      "Ассиметрия: 0.0036903358354289715\n",
      "_________________________\n",
      "Название столбца atemp\n",
      "Эксцесс: -0.8502363689497141\n",
      "Ассиметрия: -0.10254538108264065\n",
      "_________________________\n",
      "Название столбца humidity\n",
      "Эксцесс: -0.760019710012902\n",
      "Ассиметрия: -0.0863232869219358\n",
      "_________________________\n",
      "Название столбца windspeed\n",
      "Эксцесс: 0.629292367034056\n",
      "Ассиметрия: 0.5886853963635482\n",
      "_________________________\n",
      "Название столбца casual\n",
      "Эксцесс: 7.547610130561701\n",
      "Ассиметрия: 2.495404491505502\n",
      "_________________________\n",
      "Название столбца registered\n",
      "Эксцесс: 2.6243238654959855\n",
      "Ассиметрия: 1.5245944734221468\n",
      "_________________________\n",
      "Название столбца count\n",
      "Эксцесс: 1.2989447727380323\n",
      "Ассиметрия: 1.241895058803035\n",
      "_________________________\n"
     ]
    }
   ],
   "source": [
    "for (n, col) in enumerate(df.columns):\n",
    "    print('Название столбца {}'.format(col))\n",
    "    print('Эксцесс:', kurtosis(df[col])) # эксцесс\n",
    "    print('Ассиметрия:', skew(df[col])) # ассиметрия\n",
    "    print('_________________________')"
   ]
  },
  {
   "cell_type": "markdown",
   "metadata": {},
   "source": [
    "Ассисметрия: \n",
    "1) распределение скошено влево у метрик: season, workingday, atemp, humidity (у остальных вправо)\n",
    "2) Незначительная ассиметрия у: season, temp, atemp, humidity, умеренная у: working day, windspeed (у остальных сильная ассиметрия)\n",
    "\n",
    "Эксцесс:\n",
    "1) близким к эталонному значению являются эксцесс у: weather, temp, atemp, humidity, windspeed\n",
    "   аномальные значения эксцесса у holiday.\n",
    "\n",
    "Вывод: наиболее близкими к нормальному распределению являются метрики temp, atemp, humidity\n",
    "наибольшее количество аномалий у holiday"
   ]
  },
  {
   "cell_type": "markdown",
   "metadata": {
    "colab_type": "text",
    "id": "zssITxDceLHp"
   },
   "source": [
    "### 4.\n",
    "\n",
    "Постройте симметричный доверительный интервал для метрики с самой большой дисперсией при доверительной вероятности 0.95. "
   ]
  },
  {
   "cell_type": "code",
   "execution_count": 118,
   "metadata": {
    "colab": {},
    "colab_type": "code",
    "id": "N2ANdDIXeLHp"
   },
   "outputs": [],
   "source": [
    "def my_norm_confidence(df=df, column = \"atemp\", alpha = 0.95):\n",
    "    interval = stats.norm.interval(alpha, loc=df[column].mean(), scale=df[column].std())\n",
    "    return interval"
   ]
  },
  {
   "cell_type": "code",
   "execution_count": 119,
   "metadata": {},
   "outputs": [
    {
     "name": "stdout",
     "output_type": "stream",
     "text": [
      "(7.045172041640964, 40.26499606418288)\n"
     ]
    }
   ],
   "source": [
    "confidence = my_norm_confidence()\n",
    "print(confidence)"
   ]
  },
  {
   "cell_type": "code",
   "execution_count": 120,
   "metadata": {},
   "outputs": [
    {
     "data": {
      "text/plain": [
       "Text(0.5, 1.0, 'Доверительный интервал')"
      ]
     },
     "execution_count": 120,
     "metadata": {},
     "output_type": "execute_result"
    },
    {
     "data": {
      "image/png": "[encoded data removed]",
      "text/plain": [
       "<Figure size 432x288 with 1 Axes>"
      ]
     },
     "metadata": {
      "needs_background": "light"
     },
     "output_type": "display_data"
    }
   ],
   "source": [
    "df.atemp.plot()\n",
    "plt.axhline(y=confidence[1], color=\"g\", linestyle=\"-\")\n",
    "plt.axhline(y=confidence[0], color=\"r\", linestyle=\"-\")\n",
    "plt.title(\"Доверительный интервал\")"
   ]
  },
  {
   "cell_type": "markdown",
   "metadata": {
    "colab_type": "text",
    "id": "umVFTDezeLHr"
   },
   "source": [
    "### 5. (*)\n",
    "\n",
    "Найдите количество значений, выходящих за три сигмы для каждой из метрик. Где получилось больше всего аномалий?"
   ]
  },
  {
   "cell_type": "code",
   "execution_count": 121,
   "metadata": {
    "colab": {},
    "colab_type": "code",
    "id": "GREA7G-XeLHs"
   },
   "outputs": [
    {
     "name": "stdout",
     "output_type": "stream",
     "text": [
      "Название столбца season\n",
      "0\n",
      "_________________________\n",
      "Название столбца holiday\n",
      "311\n",
      "_________________________\n",
      "Название столбца workingday\n",
      "0\n",
      "_________________________\n",
      "Название столбца weather\n",
      "1\n",
      "_________________________\n",
      "Название столбца temp\n",
      "0\n",
      "_________________________\n",
      "Название столбца atemp\n",
      "0\n",
      "_________________________\n",
      "Название столбца humidity\n",
      "0\n",
      "_________________________\n",
      "Название столбца windspeed\n",
      "67\n",
      "_________________________\n",
      "Название столбца casual\n",
      "292\n",
      "_________________________\n",
      "Название столбца registered\n",
      "235\n",
      "_________________________\n",
      "Название столбца count\n",
      "147\n",
      "_________________________\n"
     ]
    }
   ],
   "source": [
    "for (n, col) in enumerate(df.columns):\n",
    "    print('Название столбца {}'.format(col))\n",
    "    upper_level = df[col].mean() + 3*df[col].std()\n",
    "    anomaly = df[(df[col] >= upper_level)]\n",
    "    print(anomaly.shape[0])\n",
    "    print('_________________________')"
   ]
  },
  {
   "cell_type": "markdown",
   "metadata": {},
   "source": [
    "Ответ: Если сравнивтаь кол-во аномали только у параметров, распредление кот-ых близко к нормальному (т.е. temp, atemp, humidity, windspeed), то больше всего аномалий получилось в метрике windspeed (у остлаьных 0)."
   ]
  },
  {
   "cell_type": "markdown",
   "metadata": {
    "colab_type": "text",
    "id": "se4DGIgmeLHu"
   },
   "source": [
    "### 6.\n",
    "\n",
    "Постройте корреляционную матрицу и heatmap по метрикам. Какие выводы о наличии связей можно сделать?"
   ]
  },
  {
   "cell_type": "code",
   "execution_count": 122,
   "metadata": {
    "colab": {},
    "colab_type": "code",
    "id": "blps8a8qeLHv"
   },
   "outputs": [
    {
     "data": {
      "text/html": [
       "<div>\n",
       "<style scoped>\n",
       "    .dataframe tbody tr th:only-of-type {\n",
       "        vertical-align: middle;\n",
       "    }\n",
       "\n",
       "    .dataframe tbody tr th {\n",
       "        vertical-align: top;\n",
       "    }\n",
       "\n",
       "    .dataframe thead th {\n",
       "        text-align: right;\n",
       "    }\n",
       "</style>\n",
       "<table border=\"1\" class=\"dataframe\">\n",
       "  <thead>\n",
       "    <tr style=\"text-align: right;\">\n",
       "      <th></th>\n",
       "      <th>season</th>\n",
       "      <th>holiday</th>\n",
       "      <th>workingday</th>\n",
       "      <th>weather</th>\n",
       "      <th>temp</th>\n",
       "      <th>atemp</th>\n",
       "      <th>humidity</th>\n",
       "      <th>windspeed</th>\n",
       "      <th>casual</th>\n",
       "      <th>registered</th>\n",
       "      <th>count</th>\n",
       "    </tr>\n",
       "  </thead>\n",
       "  <tbody>\n",
       "    <tr>\n",
       "      <th>season</th>\n",
       "      <td>1.000000</td>\n",
       "      <td>0.029368</td>\n",
       "      <td>-0.008126</td>\n",
       "      <td>0.008879</td>\n",
       "      <td>0.258689</td>\n",
       "      <td>0.264744</td>\n",
       "      <td>0.190610</td>\n",
       "      <td>-0.147121</td>\n",
       "      <td>0.096758</td>\n",
       "      <td>0.164011</td>\n",
       "      <td>0.163439</td>\n",
       "    </tr>\n",
       "    <tr>\n",
       "      <th>holiday</th>\n",
       "      <td>0.029368</td>\n",
       "      <td>1.000000</td>\n",
       "      <td>-0.250491</td>\n",
       "      <td>-0.007074</td>\n",
       "      <td>0.000295</td>\n",
       "      <td>-0.005215</td>\n",
       "      <td>0.001929</td>\n",
       "      <td>0.008409</td>\n",
       "      <td>0.043799</td>\n",
       "      <td>-0.020956</td>\n",
       "      <td>-0.005393</td>\n",
       "    </tr>\n",
       "    <tr>\n",
       "      <th>workingday</th>\n",
       "      <td>-0.008126</td>\n",
       "      <td>-0.250491</td>\n",
       "      <td>1.000000</td>\n",
       "      <td>0.033772</td>\n",
       "      <td>0.029966</td>\n",
       "      <td>0.024660</td>\n",
       "      <td>-0.010880</td>\n",
       "      <td>0.013373</td>\n",
       "      <td>-0.319111</td>\n",
       "      <td>0.119460</td>\n",
       "      <td>0.011594</td>\n",
       "    </tr>\n",
       "    <tr>\n",
       "      <th>weather</th>\n",
       "      <td>0.008879</td>\n",
       "      <td>-0.007074</td>\n",
       "      <td>0.033772</td>\n",
       "      <td>1.000000</td>\n",
       "      <td>-0.055035</td>\n",
       "      <td>-0.055376</td>\n",
       "      <td>0.406244</td>\n",
       "      <td>0.007261</td>\n",
       "      <td>-0.135918</td>\n",
       "      <td>-0.109340</td>\n",
       "      <td>-0.128655</td>\n",
       "    </tr>\n",
       "    <tr>\n",
       "      <th>temp</th>\n",
       "      <td>0.258689</td>\n",
       "      <td>0.000295</td>\n",
       "      <td>0.029966</td>\n",
       "      <td>-0.055035</td>\n",
       "      <td>1.000000</td>\n",
       "      <td>0.984948</td>\n",
       "      <td>-0.064949</td>\n",
       "      <td>-0.017852</td>\n",
       "      <td>0.467097</td>\n",
       "      <td>0.318571</td>\n",
       "      <td>0.394454</td>\n",
       "    </tr>\n",
       "    <tr>\n",
       "      <th>atemp</th>\n",
       "      <td>0.264744</td>\n",
       "      <td>-0.005215</td>\n",
       "      <td>0.024660</td>\n",
       "      <td>-0.055376</td>\n",
       "      <td>0.984948</td>\n",
       "      <td>1.000000</td>\n",
       "      <td>-0.043536</td>\n",
       "      <td>-0.057473</td>\n",
       "      <td>0.462067</td>\n",
       "      <td>0.314635</td>\n",
       "      <td>0.389784</td>\n",
       "    </tr>\n",
       "    <tr>\n",
       "      <th>humidity</th>\n",
       "      <td>0.190610</td>\n",
       "      <td>0.001929</td>\n",
       "      <td>-0.010880</td>\n",
       "      <td>0.406244</td>\n",
       "      <td>-0.064949</td>\n",
       "      <td>-0.043536</td>\n",
       "      <td>1.000000</td>\n",
       "      <td>-0.318607</td>\n",
       "      <td>-0.348187</td>\n",
       "      <td>-0.265458</td>\n",
       "      <td>-0.317371</td>\n",
       "    </tr>\n",
       "    <tr>\n",
       "      <th>windspeed</th>\n",
       "      <td>-0.147121</td>\n",
       "      <td>0.008409</td>\n",
       "      <td>0.013373</td>\n",
       "      <td>0.007261</td>\n",
       "      <td>-0.017852</td>\n",
       "      <td>-0.057473</td>\n",
       "      <td>-0.318607</td>\n",
       "      <td>1.000000</td>\n",
       "      <td>0.092276</td>\n",
       "      <td>0.091052</td>\n",
       "      <td>0.101369</td>\n",
       "    </tr>\n",
       "    <tr>\n",
       "      <th>casual</th>\n",
       "      <td>0.096758</td>\n",
       "      <td>0.043799</td>\n",
       "      <td>-0.319111</td>\n",
       "      <td>-0.135918</td>\n",
       "      <td>0.467097</td>\n",
       "      <td>0.462067</td>\n",
       "      <td>-0.348187</td>\n",
       "      <td>0.092276</td>\n",
       "      <td>1.000000</td>\n",
       "      <td>0.497250</td>\n",
       "      <td>0.690414</td>\n",
       "    </tr>\n",
       "    <tr>\n",
       "      <th>registered</th>\n",
       "      <td>0.164011</td>\n",
       "      <td>-0.020956</td>\n",
       "      <td>0.119460</td>\n",
       "      <td>-0.109340</td>\n",
       "      <td>0.318571</td>\n",
       "      <td>0.314635</td>\n",
       "      <td>-0.265458</td>\n",
       "      <td>0.091052</td>\n",
       "      <td>0.497250</td>\n",
       "      <td>1.000000</td>\n",
       "      <td>0.970948</td>\n",
       "    </tr>\n",
       "    <tr>\n",
       "      <th>count</th>\n",
       "      <td>0.163439</td>\n",
       "      <td>-0.005393</td>\n",
       "      <td>0.011594</td>\n",
       "      <td>-0.128655</td>\n",
       "      <td>0.394454</td>\n",
       "      <td>0.389784</td>\n",
       "      <td>-0.317371</td>\n",
       "      <td>0.101369</td>\n",
       "      <td>0.690414</td>\n",
       "      <td>0.970948</td>\n",
       "      <td>1.000000</td>\n",
       "    </tr>\n",
       "  </tbody>\n",
       "</table>\n",
       "</div>"
      ],
      "text/plain": [
       "              season   holiday  workingday   weather      temp     atemp  \\\n",
       "season      1.000000  0.029368   -0.008126  0.008879  0.258689  0.264744   \n",
       "holiday     0.029368  1.000000   -0.250491 -0.007074  0.000295 -0.005215   \n",
       "workingday -0.008126 -0.250491    1.000000  0.033772  0.029966  0.024660   \n",
       "weather     0.008879 -0.007074    0.033772  1.000000 -0.055035 -0.055376   \n",
       "temp        0.258689  0.000295    0.029966 -0.055035  1.000000  0.984948   \n",
       "atemp       0.264744 -0.005215    0.024660 -0.055376  0.984948  1.000000   \n",
       "humidity    0.190610  0.001929   -0.010880  0.406244 -0.064949 -0.043536   \n",
       "windspeed  -0.147121  0.008409    0.013373  0.007261 -0.017852 -0.057473   \n",
       "casual      0.096758  0.043799   -0.319111 -0.135918  0.467097  0.462067   \n",
       "registered  0.164011 -0.020956    0.119460 -0.109340  0.318571  0.314635   \n",
       "count       0.163439 -0.005393    0.011594 -0.128655  0.394454  0.389784   \n",
       "\n",
       "            humidity  windspeed    casual  registered     count  \n",
       "season      0.190610  -0.147121  0.096758    0.164011  0.163439  \n",
       "holiday     0.001929   0.008409  0.043799   -0.020956 -0.005393  \n",
       "workingday -0.010880   0.013373 -0.319111    0.119460  0.011594  \n",
       "weather     0.406244   0.007261 -0.135918   -0.109340 -0.128655  \n",
       "temp       -0.064949  -0.017852  0.467097    0.318571  0.394454  \n",
       "atemp      -0.043536  -0.057473  0.462067    0.314635  0.389784  \n",
       "humidity    1.000000  -0.318607 -0.348187   -0.265458 -0.317371  \n",
       "windspeed  -0.318607   1.000000  0.092276    0.091052  0.101369  \n",
       "casual     -0.348187   0.092276  1.000000    0.497250  0.690414  \n",
       "registered -0.265458   0.091052  0.497250    1.000000  0.970948  \n",
       "count      -0.317371   0.101369  0.690414    0.970948  1.000000  "
      ]
     },
     "execution_count": 122,
     "metadata": {},
     "output_type": "execute_result"
    }
   ],
   "source": [
    "corr_m = df.corr()\n",
    "corr_m"
   ]
  },
  {
   "cell_type": "code",
   "execution_count": 123,
   "metadata": {},
   "outputs": [
    {
     "data": {
      "text/plain": [
       "<matplotlib.axes._subplots.AxesSubplot at 0x12b835790>"
      ]
     },
     "execution_count": 123,
     "metadata": {},
     "output_type": "execute_result"
    },
    {
     "data": {
      "image/png": "[encoded data removed]",
      "text/plain": [
       "<Figure size 504x360 with 2 Axes>"
      ]
     },
     "metadata": {
      "needs_background": "light"
     },
     "output_type": "display_data"
    }
   ],
   "source": [
    "plt.figure(figsize=(7,5))\n",
    "sns.heatmap(corr_m, center=0, annot=True)"
   ]
  },
  {
   "cell_type": "markdown",
   "metadata": {},
   "source": [
    "Ответ: Самая сильная связь наблюдается между такими показателями, как count и registered. Также, достаточно сильная связь между count и casual."
   ]
  },
  {
   "cell_type": "code",
   "execution_count": null,
   "metadata": {},
   "outputs": [],
   "source": []
  }
 ],
 "metadata": {
  "colab": {
   "name": "DS Stat HW.ipynb",
   "provenance": []
  },
  "kernelspec": {
   "display_name": "Python 3",
   "language": "python",
   "name": "python3"
  },
  "language_info": {
   "codemirror_mode": {
    "name": "ipython",
    "version": 3
   },
   "file_extension": ".py",
   "mimetype": "text/x-python",
   "name": "python",
   "nbconvert_exporter": "python",
   "pygments_lexer": "ipython3",
   "version": "3.8.3"
  }
 },
 "nbformat": 4,
 "nbformat_minor": 1
}
